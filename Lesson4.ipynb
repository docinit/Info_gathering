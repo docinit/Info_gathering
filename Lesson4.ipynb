{
 "cells": [
  {
   "cell_type": "code",
   "execution_count": 1,
   "metadata": {},
   "outputs": [],
   "source": [
    "from pprint import pprint\n",
    "from lxml import html\n",
    "import requests\n",
    "import datetime,time\n",
    "import unicodedata\n",
    "import json\n",
    "import pandas as pd\n",
    "from pymongo import MongoClient"
   ]
  },
  {
   "cell_type": "code",
   "execution_count": 2,
   "metadata": {},
   "outputs": [],
   "source": [
    "yandex_link = 'https://yandex.ru/news/'\n",
    "mailru_link = 'https://news.mail.ru/'\n",
    "lenta_link = 'https://lenta.ru/'"
   ]
  },
  {
   "cell_type": "code",
   "execution_count": 3,
   "metadata": {},
   "outputs": [],
   "source": [
    "header = {'User-Agent':'Mozilla/5.0 (X11; Linux x86_64) AppleWebKit/537.36 (KHTML, like Gecko) Chrome/80.0.3987.132 Safari/537.36'}\n",
    "yandex_request = requests.get(yandex_link,headers=header).text\n",
    "mailru_request = requests.get(mailru_link,headers=header).text\n",
    "lenta_request = requests.get(lenta_link,headers=header).text\n",
    "\n",
    "yandex_html = html.fromstring(yandex_request)\n",
    "mailru_html = html.fromstring(mailru_request)\n",
    "lenta_html = html.fromstring(lenta_request)"
   ]
  },
  {
   "cell_type": "markdown",
   "metadata": {},
   "source": [
    "### YANDEX NEWS"
   ]
  },
  {
   "cell_type": "code",
   "execution_count": 4,
   "metadata": {},
   "outputs": [],
   "source": [
    "news_link_yandex = yandex_html.xpath('//h2/a[contains(@class, link_theme_black)]/@href')\n",
    "news_header_yandex = yandex_html.xpath('//h2/a[contains(@class, link_theme_black)]/text()')\n",
    "news_origin_date_yandex = yandex_html.xpath('//div[@class = \"story__date\"]/text()')\n",
    "\n",
    "news_origin_date_yandex1 = news_origin_date_yandex.copy()\n",
    "for k,i in enumerate(news_link_yandex):\n",
    "    news_link_yandex[k] = i.replace('/news/',yandex_link)\n",
    "for k,i in enumerate(news_origin_date_yandex):\n",
    "    news_origin_date_yandex[k] = unicodedata.normalize('NFKD',i).split(' ')\n",
    "    news_origin_date_yandex[k][0] = ' '.join(news_origin_date_yandex[k][:-1])\n",
    "    if str('вчера в') in news_origin_date_yandex[k][0]:\n",
    "        news_origin_date_yandex[k][0]=news_origin_date_yandex[k][0].replace('вчера в','')\n",
    "        news_origin_date_yandex[k][-1] = 'вчера в ' + news_origin_date_yandex[k][-1]\n",
    "\n",
    "for z,k in enumerate([i[-1] for i in news_origin_date_yandex]):\n",
    "    if len(k)==5:\n",
    "        news_origin_date_yandex[z][-1] = str(datetime.date.today())\n",
    "    elif 'вчера' in str.lower(k):\n",
    "        news_origin_date_yandex[z][-1] = str(datetime.date.today()-datetime.timedelta(days=1))\n",
    "\n",
    "for i in zip(news_header_yandex,news_link_yandex,[i[0] for i in news_origin_date_yandex],[i[-1] for i in news_origin_date_yandex]):\n",
    "    #print (i)\n",
    "    pass"
   ]
  },
  {
   "cell_type": "markdown",
   "metadata": {},
   "source": [
    "### LENTA NEWS"
   ]
  },
  {
   "cell_type": "code",
   "execution_count": 5,
   "metadata": {},
   "outputs": [],
   "source": [
    "news_link_lenta = lenta_html.xpath('//div[@class = \"item\"]//a/@href|//div[@class = \"item news b-tabloid__topic_news\"]//h3/a/@href')\n",
    "news_header_lenta = lenta_html.xpath('//div[@class = \"item\"]//a/text()|//div[@class = \"item news b-tabloid__topic_news\"]//h3/a/span/text()')\n",
    "\n",
    "for k,i in enumerate(news_header_lenta):\n",
    "    news_header_lenta[k]=unicodedata.normalize('NFKD',i)\n",
    "news_date_lenta = []\n",
    "for i in news_link_lenta:\n",
    "    if len(i.split('.htm'))>1:\n",
    "        news_date_lenta.append('https://lenta.ru' + '/'.join(''.join(list(i.split('.htm')[0])[-10:]).split('-')[::-1]))\n",
    "    else:\n",
    "        news_date_lenta.append('/'.join(i.split('/')[2:5]))\n",
    "news_origin_lenta = []\n",
    "for k,i in enumerate(news_link_lenta):\n",
    "    if str(i)[0] == '/':\n",
    "        news_origin_lenta.append('Lenta.Ru')\n",
    "    else:\n",
    "        news_origin_lenta.append(i.replace('https://','').split('/')[0].title())\n",
    "\n",
    "for i in zip(news_header_lenta,news_link_lenta,news_origin_lenta,news_date_lenta):\n",
    "    #print (i)\n",
    "    pass"
   ]
  },
  {
   "cell_type": "markdown",
   "metadata": {},
   "source": [
    "### MAIL.RU NEWS"
   ]
  },
  {
   "cell_type": "code",
   "execution_count": 6,
   "metadata": {},
   "outputs": [],
   "source": [
    "news_link_mailru = mailru_html.xpath('//div[contains(@class,\"daynews__item\")]//a/@href|//a[@class=\"list__text\"]/@href|//a[@class=\"link link_flex\"]/@href|//a[@class=\"newsitem__title link-holder\"]/@href')\n",
    "news_header_mailru = mailru_html.xpath('//div[contains(@class,\"daynews__item\")]//a//span[contains(@class,\"photo__title_new\")]/text()|//a[@class=\"list__text\"]/text()|//a[@class=\"link link_flex\"]/span/text()|//a[@class=\"newsitem__title link-holder\"]/span/text()')\n",
    "\n",
    "for k,i in enumerate(news_header_mailru):\n",
    "    news_header_mailru[k]=unicodedata.normalize('NFKD',i)\n",
    "for k,i in enumerate(news_link_mailru):\n",
    "    if str(i)[0] == '/':\n",
    "        news_link_mailru[k] = mailru_link + str(i)[1:]\n",
    "    else:\n",
    "        continue\n",
    "# если - вдруг - источник не найдется (или не указан, как в lenta.ru), примем, что источником является mail.ru\n",
    "news_origin_mailru = []\n",
    "for i in news_link_mailru:\n",
    "    news_origin_mailru.append(i.replace('https://','').split('/')[0].title())\n",
    "\n",
    "news_date_mailru = []\n",
    "for k,i in enumerate(news_link_mailru):\n",
    "    time.sleep(1)\n",
    "    news_date_request = html.fromstring(requests.get(i,headers = header).text)\n",
    "    news_date = news_date_request.xpath('//span[contains(@class,\"note__text breadcrumbs__text js-ago\")]/@datetime')\n",
    "    try:\n",
    "        news_origin_mailru[k]=news_date_request.xpath('//span[@class=\"breadcrumbs__item\"]//span[@class=\"link__text\"]/text()')[0]\n",
    "    except:\n",
    "        pass\n",
    "    if news_date:\n",
    "        news_date_mailru.append(str(news_date[0]).split('T')[0])\n",
    "    else:\n",
    "        news_date = news_date_request.xpath('//span[contains(@class,\"breadcrumbs__item js-ago\")]/@datetime')\n",
    "        if news_date:\n",
    "            news_date_mailru.append(str(news_date[0]).split('T')[0])\n",
    "        else:\n",
    "            news_date = news_date_request.xpath('//time[contains(@class,\"breadcrumbs__text js-ago\")]/@datetime')\n",
    "            if news_date:\n",
    "                news_date_mailru.append(str(news_date[0]).split('T')[0])\n",
    "            else:\n",
    "                news_date = json.loads(news_date_request.xpath('//script[@type=\"application/ld+json\"]/text()')[0])['datePublished']\n",
    "                news_date_mailru.append(news_date)\n",
    "\n",
    "for i in zip(news_header_mailru,news_link_mailru,news_origin_mailru,news_date_mailru):\n",
    "    #print (i)\n",
    "    pass"
   ]
  },
  {
   "cell_type": "code",
   "execution_count": 7,
   "metadata": {},
   "outputs": [],
   "source": [
    "client = MongoClient('localhost', 27017)\n",
    "\n",
    "db = client['db_of_news']\n",
    "\n",
    "yandex_db = db.yandex_news\n",
    "mailru_db = db.mailru\n",
    "lenta_db = db.lenta"
   ]
  },
  {
   "cell_type": "code",
   "execution_count": 8,
   "metadata": {},
   "outputs": [],
   "source": [
    "news_to_add_mailru = {}\n",
    "k=0\n",
    "for i in news_header_mailru:\n",
    "    news_to_add_mailru[k]={'title':news_header_mailru[k],'urls':news_link_mailru[k],'source':news_origin_mailru[k],'date':news_date_mailru[k]}\n",
    "    k+=1\n",
    "k=0\n",
    "news_to_add_lenta = {}\n",
    "for i in news_header_lenta:\n",
    "    news_to_add_lenta[k]={'title':news_header_lenta[k],'urls':news_link_lenta[k],'source':news_origin_lenta[k],'date':news_date_lenta[k]}\n",
    "    k+=1\n",
    "k=0\n",
    "news_to_add_yandex = {}\n",
    "for i in news_header_yandex:\n",
    "    news_to_add_yandex[k]={'title':news_header_yandex[k],'urls':news_link_yandex[k],'source':[i[0] for i in news_origin_date_yandex][k],'date':[i[-1] for i in news_origin_date_yandex][k]}\n",
    "    k+=1"
   ]
  },
  {
   "cell_type": "code",
   "execution_count": 9,
   "metadata": {},
   "outputs": [],
   "source": [
    "for i in news_to_add_mailru:\n",
    "    mailru_db.insert_one(news_to_add_mailru[i])\n",
    "for i in news_to_add_lenta:\n",
    "    lenta_db.insert_one(news_to_add_lenta[i])\n",
    "for i in news_to_add_yandex:\n",
    "    yandex_db.insert_one(news_to_add_yandex[i])"
   ]
  },
  {
   "cell_type": "code",
   "execution_count": 10,
   "metadata": {},
   "outputs": [
    {
     "data": {
      "text/plain": [
       "https://news.mail.ru/politics/41004360/                                                                                                 3\n",
       "https://news.mail.ru/incident/41004205/                                                                                                 3\n",
       "https://health.mail.ru/news/immunitet_poka_ne_raspoznaet_koronavirus_glava/                                                             2\n",
       "https://news.mail.ru/politics/41002334/                                                                                                 2\n",
       "https://news.mail.ru/economics/41004238/                                                                                                2\n",
       "https://news.mail.ru/economics/41003305/                                                                                                2\n",
       "https://kino.mail.ru/news/52884_alena_hmelnitskaya_soobschila_chto_3_5_mesyatsa_bila_bez_raboti/                                        2\n",
       "https://news.mail.ru/incident/40988143/                                                                                                 2\n",
       "https://news.mail.ru/economics/40994190/                                                                                                2\n",
       "https://kino.mail.ru/news/52883_pervii_kanal_prerval_semki_dance_revolyutsiya_/                                                         2\n",
       "https://news.mail.ru/economics/41001085/                                                                                                2\n",
       "https://news.mail.ru/society/41003381/                                                                                                  2\n",
       "https://kino.mail.ru/news/52881_nazvani_imena_novih_veduschih_orla_i_reshki/                                                            2\n",
       "https://health.mail.ru/news/120kilogrammovyy_muzykant_el_raz_v_den_i/                                                                   2\n",
       "https://news.mail.ru/society/40994026/                                                                                                  2\n",
       "https://news.mail.ru/society/40998899/                                                                                                  2\n",
       "https://lady.mail.ru/article/514588-ana-de-armas-pokazala-foto-sdelannye-ee-bojfrendom-benom-afflekom/                                  2\n",
       "https://news.mail.ru/society/41003066/                                                                                                  2\n",
       "https://news.mail.ru/politics/41000040/                                                                                                 2\n",
       "https://news.mail.ru/incident/40988440/                                                                                                 2\n",
       "https://news.mail.ru/economics/41002984/                                                                                                2\n",
       "https://health.mail.ru/news/noshenie_masok_protiv_koronavirusa_nazvali/                                                                 2\n",
       "https://news.mail.ru/politics/41002371/                                                                                                 2\n",
       "https://news.mail.ru/politics/41003055/                                                                                                 2\n",
       "https://news.mail.ru/economics/41002725/                                                                                                2\n",
       "https://news.mail.ru/society/41003118/                                                                                                  2\n",
       "https://news.mail.ru/politics/41001522/                                                                                                 2\n",
       "https://news.mail.ru/politics/41003826/                                                                                                 2\n",
       "https://news.mail.ru/incident/40989234/                                                                                                 2\n",
       "https://news.mail.ru/politics/41003391/                                                                                                 2\n",
       "https://news.mail.ru/society/41004060/                                                                                                  2\n",
       "https://news.mail.ru/society/40997758/                                                                                                  2\n",
       "https://news.mail.ru/society/41001918/                                                                                                  2\n",
       "https://news.mail.ru/society/41001191/                                                                                                  2\n",
       "https://news.mail.ru/economics/40997120/                                                                                                2\n",
       "https://news.mail.ru/incident/40997785/                                                                                                 2\n",
       "https://news.mail.ru/society/40999825/                                                                                                  2\n",
       "https://news.mail.ru/incident/40992443/                                                                                                 2\n",
       "https://news.mail.ru/society/41002512/                                                                                                  2\n",
       "https://news.mail.ru/economics/41002260/                                                                                                2\n",
       "https://lady.mail.ru/article/514563-leopard-zmeja-i-zebra-nosit-animalistichnyj-print-stilno-a-ne-vulgarno/                             1\n",
       "https://lady.mail.ru/article/514582-semja-vossoedinilas-dzhigan-posle-vozvrashhenija-iz-rehaba-otdyhaet-vmeste-s-samojlovoj/            1\n",
       "https://lady.mail.ru/article/514573-gljukoza-v-rozovom-kombinezone-i-tsellofanovyh-sapogah-vpechatlila-fanatov/                         1\n",
       "https://deti.mail.ru/article/uspet-vse-chem-zapastis-uzhe-sejchas/                                                                      1\n",
       "https://deti.mail.ru/news/minprosvesheniya-obyavilo-o-trehnedelnyh-shkolnyh-/                                                           1\n",
       "https://lady.mail.ru/article/514583-shejk-de-niro-milli-bobbi-braun-i-drugie-zvezdy-pojavilis-na-oblozhkah-spetsvypuska-vanity-fair/    1\n",
       "https://deti.mail.ru/lenta/olga-ushakova-nazvala-doch-neobychnym-dvojnym-imen/                                                          1\n",
       "Name: urls, dtype: int64"
      ]
     },
     "execution_count": 10,
     "metadata": {},
     "output_type": "execute_result"
    }
   ],
   "source": [
    "# можно наблюдать, что некоторые новости из разных блоков собраны из mail.ru дважды\n",
    "pd.DataFrame(mailru_db.find())['urls'].value_counts()"
   ]
  },
  {
   "cell_type": "code",
   "execution_count": 11,
   "metadata": {},
   "outputs": [
    {
     "data": {
      "text/plain": [
       "https://yandex.ru/news/story/Zamglavy_MCHS_Tatarstana_arestovan_po_podozreniyu_v_moshennichestve--0817c0148958d8b0accdc4e0d0f13090?lr=2&lang=ru&stid=PQdFwYndL1sd6ncgnm7n&persistent_id=90892839&rubric=incident&from=index          3\n",
       "https://yandex.ru/news/story/Peterburg_i_Lenoblast_obedinyayut_usiliya_v_borbe_s_koronavirusom--8b1ea530e54a9d8324bf4d3fbc310fc5?lr=2&lang=ru&stid=Mwm5-m-EbpBAmnr1MpnJ&persistent_id=90900304&rubric=Saint_Petersburg&from=index    3\n",
       "https://yandex.ru/news/story/V_Rossii_poyavitsya_novyj_avtomobilnyj_dokument--8aa544364a09c1e7148aa75435c010a5?lr=2&lang=ru&stid=2oph-NUGZv1M2raxz0Eq&persistent_id=90491129&rubric=auto&from=index                                  3\n",
       "https://yandex.ru/news/story/S_plakatov_o_golosovanii_po_Konstitucii_ubrali_datu_22_aprelya--ec174d0dae1193281d6cf4e0b3a61426?lr=2&lang=ru&stid=qA0EehyUeUUlG4ww1PLG&persistent_id=90983973&rubric=politics&from=index               3\n",
       "https://yandex.ru/news/story/Apple_anonsirovala_novye_iPad_Pro_i_MacBook_Air--fd5a341421058e5ccb73bf2cf888d3a0?lr=2&lang=ru&stid=QmNWK-R0nYdM_9Yp1sKw&persistent_id=90962101&rubric=computers&from=index                             3\n",
       "                                                                                                                                                                                                                                    ..\n",
       "https://yandex.ru/news/story/Putin_prizval_ne_verit_fejkam_o_koronaviruse_v_Rossii--6ab1e90a286cb49beb9fa0380b9118b5?lr=2&lang=ru&stid=GptlDyQKa_XbhAYOBdwE&persistent_id=90977259&rubric=politics&from=index                        1\n",
       "https://yandex.ru/news/story/Nazvano_chislo_novykh_sluchaev_zarazheniya_koronavirusom--a4be1596158f156989a081a1d19be5a3?lr=2&lang=ru&stid=VGi5OMEktxYpPVuYuLVg&persistent_id=90957114&rubric=index&from=index                        1\n",
       "https://yandex.ru/news/story/VOZ_nachalis_pervye_ispytaniya_vakciny_protiv_koronavirusa--829b5ad53d78790ddda93a519ede3f23?lr=2&lang=ru&stid=rFsTUCCoWsgE0qyQyNx7&persistent_id=90981078&rubric=personal_feed&from=index              1\n",
       "https://yandex.ru/news/story/Minzdrav_Ukrainy_podtverdil_zarazhenie_koronavirusom_deputata_Rady--96d06b3dd09b482ba5b1ffef911a973f?lr=2&lang=ru&stid=fXDkjkPZcZG_&persistent_id=90958177&rubric=personal_feed&from=index              1\n",
       "https://yandex.ru/news/story/Putin_obyasnil_otkaz_Lukashenko_priznat_Krym_rossijskim--d34478b276629b30217271eaeed4717e?lr=2&lang=ru&stid=9tOmvmetkXc62MHh0FUC&persistent_id=90981092&rubric=index&from=index                         1\n",
       "Name: urls, Length: 102, dtype: int64"
      ]
     },
     "execution_count": 11,
     "metadata": {},
     "output_type": "execute_result"
    }
   ],
   "source": [
    "pd.DataFrame(yandex_db.find())['urls'].value_counts()"
   ]
  },
  {
   "cell_type": "code",
   "execution_count": 12,
   "metadata": {},
   "outputs": [
    {
     "data": {
      "text/plain": [
       "/news/2020/03/18/poezd/          3\n",
       "/news/2020/03/18/coronastras/    3\n",
       "/news/2020/03/18/kadyroff/       3\n",
       "/news/2020/03/18/recession/      3\n",
       "/news/2020/03/18/croc/           3\n",
       "                                ..\n",
       "/news/2020/03/18/alina/          3\n",
       "/news/2020/03/18/30_msk/         3\n",
       "/news/2020/03/18/lingerie/       3\n",
       "/news/2020/03/18/belarus/        3\n",
       "/news/2020/03/19/erdogan/        1\n",
       "Name: urls, Length: 70, dtype: int64"
      ]
     },
     "execution_count": 12,
     "metadata": {},
     "output_type": "execute_result"
    }
   ],
   "source": [
    "pd.DataFrame(lenta_db.find())['urls'].value_counts()"
   ]
  },
  {
   "cell_type": "code",
   "execution_count": 13,
   "metadata": {},
   "outputs": [],
   "source": [
    "# создаем датафрейм и пандовскую серию для отбора urls, которые можно удалить из БД\n",
    "df = pd.DataFrame(pd.DataFrame(mailru_db.find())['urls'].value_counts())\n",
    "df.reset_index(inplace=True)\n",
    "list_to_delete = []\n",
    "for i in df.loc[df['urls']>1,'index']:\n",
    "    k = int(df.loc[df['index']==i,'urls'])\n",
    "    while k>1:\n",
    "        list_to_delete.append(i)\n",
    "        k-=1\n",
    "for i in list_to_delete:\n",
    "    mailru_db.delete_one({'urls':i})\n",
    "    \n",
    "df = pd.DataFrame(pd.DataFrame(yandex_db.find())['urls'].value_counts())\n",
    "df.reset_index(inplace=True)\n",
    "list_to_delete = []\n",
    "for i in df.loc[df['urls']>1,'index']:\n",
    "    k = int(df.loc[df['index']==i,'urls'])\n",
    "    while k>1:\n",
    "        list_to_delete.append(i)\n",
    "        k-=1\n",
    "for i in list_to_delete:\n",
    "    yandex_db.delete_one({'urls':i})\n",
    "    \n",
    "df = pd.DataFrame(pd.DataFrame(lenta_db.find())['urls'].value_counts())\n",
    "df.reset_index(inplace=True)\n",
    "list_to_delete = []\n",
    "for i in df.loc[df['urls']>1,'index']:\n",
    "    k = int(df.loc[df['index']==i,'urls'])\n",
    "    while k>1:\n",
    "        list_to_delete.append(i)\n",
    "        k-=1\n",
    "for i in list_to_delete:\n",
    "    lenta_db.delete_one({'urls':i})"
   ]
  },
  {
   "cell_type": "code",
   "execution_count": 14,
   "metadata": {},
   "outputs": [
    {
     "data": {
      "text/plain": [
       "https://health.mail.ru/news/immunitet_poka_ne_raspoznaet_koronavirus_glava/                                                             1\n",
       "https://news.mail.ru/politics/41002334/                                                                                                 1\n",
       "https://news.mail.ru/economics/41002725/                                                                                                1\n",
       "https://news.mail.ru/economics/41004238/                                                                                                1\n",
       "https://news.mail.ru/economics/41003305/                                                                                                1\n",
       "https://kino.mail.ru/news/52884_alena_hmelnitskaya_soobschila_chto_3_5_mesyatsa_bila_bez_raboti/                                        1\n",
       "https://news.mail.ru/incident/40988143/                                                                                                 1\n",
       "https://news.mail.ru/economics/41002984/                                                                                                1\n",
       "https://news.mail.ru/economics/40994190/                                                                                                1\n",
       "https://lady.mail.ru/article/514583-shejk-de-niro-milli-bobbi-braun-i-drugie-zvezdy-pojavilis-na-oblozhkah-spetsvypuska-vanity-fair/    1\n",
       "https://news.mail.ru/economics/41001085/                                                                                                1\n",
       "https://deti.mail.ru/article/uspet-vse-chem-zapastis-uzhe-sejchas/                                                                      1\n",
       "https://news.mail.ru/incident/40992443/                                                                                                 1\n",
       "https://news.mail.ru/society/41003381/                                                                                                  1\n",
       "https://health.mail.ru/news/120kilogrammovyy_muzykant_el_raz_v_den_i/                                                                   1\n",
       "https://news.mail.ru/society/40994026/                                                                                                  1\n",
       "https://news.mail.ru/society/40998899/                                                                                                  1\n",
       "https://news.mail.ru/incident/41004205/                                                                                                 1\n",
       "https://lady.mail.ru/article/514588-ana-de-armas-pokazala-foto-sdelannye-ee-bojfrendom-benom-afflekom/                                  1\n",
       "https://deti.mail.ru/lenta/olga-ushakova-nazvala-doch-neobychnym-dvojnym-imen/                                                          1\n",
       "https://news.mail.ru/politics/41000040/                                                                                                 1\n",
       "https://news.mail.ru/incident/40988440/                                                                                                 1\n",
       "https://kino.mail.ru/news/52881_nazvani_imena_novih_veduschih_orla_i_reshki/                                                            1\n",
       "https://lady.mail.ru/article/514563-leopard-zmeja-i-zebra-nosit-animalistichnyj-print-stilno-a-ne-vulgarno/                             1\n",
       "https://news.mail.ru/incident/40997785/                                                                                                 1\n",
       "https://news.mail.ru/society/41001918/                                                                                                  1\n",
       "https://health.mail.ru/news/noshenie_masok_protiv_koronavirusa_nazvali/                                                                 1\n",
       "https://lady.mail.ru/article/514582-semja-vossoedinilas-dzhigan-posle-vozvrashhenija-iz-rehaba-otdyhaet-vmeste-s-samojlovoj/            1\n",
       "https://deti.mail.ru/news/minprosvesheniya-obyavilo-o-trehnedelnyh-shkolnyh-/                                                           1\n",
       "https://news.mail.ru/politics/41001522/                                                                                                 1\n",
       "https://news.mail.ru/politics/41003826/                                                                                                 1\n",
       "https://news.mail.ru/incident/40989234/                                                                                                 1\n",
       "https://news.mail.ru/politics/41003391/                                                                                                 1\n",
       "https://news.mail.ru/society/41004060/                                                                                                  1\n",
       "https://news.mail.ru/society/40997758/                                                                                                  1\n",
       "https://news.mail.ru/politics/41002371/                                                                                                 1\n",
       "https://news.mail.ru/economics/41002260/                                                                                                1\n",
       "https://news.mail.ru/politics/41003055/                                                                                                 1\n",
       "https://news.mail.ru/economics/40997120/                                                                                                1\n",
       "https://lady.mail.ru/article/514573-gljukoza-v-rozovom-kombinezone-i-tsellofanovyh-sapogah-vpechatlila-fanatov/                         1\n",
       "https://news.mail.ru/society/41003118/                                                                                                  1\n",
       "https://news.mail.ru/society/40999825/                                                                                                  1\n",
       "https://news.mail.ru/politics/41004360/                                                                                                 1\n",
       "https://news.mail.ru/society/41003066/                                                                                                  1\n",
       "https://kino.mail.ru/news/52883_pervii_kanal_prerval_semki_dance_revolyutsiya_/                                                         1\n",
       "https://news.mail.ru/society/41002512/                                                                                                  1\n",
       "https://news.mail.ru/society/41001191/                                                                                                  1\n",
       "Name: urls, dtype: int64"
      ]
     },
     "execution_count": 14,
     "metadata": {},
     "output_type": "execute_result"
    }
   ],
   "source": [
    "# смотрим результат\n",
    "pd.DataFrame(mailru_db.find())['urls'].value_counts()"
   ]
  },
  {
   "cell_type": "code",
   "execution_count": 15,
   "metadata": {},
   "outputs": [
    {
     "data": {
      "text/plain": [
       "https://yandex.ru/news/story/Zamglavy_MCHS_Tatarstana_arestovan_po_podozreniyu_v_moshennichestve--0817c0148958d8b0accdc4e0d0f13090?lr=2&lang=ru&stid=PQdFwYndL1sd6ncgnm7n&persistent_id=90892839&rubric=incident&from=index    1\n",
       "https://yandex.ru/news/story/Mishustin_poruchil_podgotovit_zakonoproekt_o_moratorii_na_bankrotstvo--799de18573da1d84586020f2b9731961?lr=2&lang=ru&stid=rcuhDbl8ZAffoMOScjmv&persistent_id=90954824&rubric=index&from=index     1\n",
       "https://yandex.ru/news/story/Minzdrav_Ukrainy_podtverdil_zarazhenie_koronavirusom_deputata_Rady--96d06b3dd09b482ba5b1ffef911a973f?lr=2&lang=ru&stid=fXDkjkPZcZG_&persistent_id=90958177&rubric=personal_feed&from=index        1\n",
       "https://yandex.ru/news/story/V_aehroportu_Belgoroda_otkryvayutsya_polety_v_Peterburg--7fae44b79ea6c0172483bb6347777cf9?lr=2&lang=ru&stid=oC2UDwT1spz1rrj59moO&persistent_id=90963721&rubric=Saint_Petersburg&from=index        1\n",
       "https://yandex.ru/news/story/V_FAS_prokommentirovali_rost_cen_na_benzin--46230f1f5cdba052cfb288a2a4c4b91a?lr=2&lang=ru&stid=SBIpX7BdHKxSiAtxWjiP&persistent_id=90981890&rubric=index&from=index                                1\n",
       "                                                                                                                                                                                                                              ..\n",
       "https://yandex.ru/news/story/Novye_simptomy_koronavirusa_nazval_nemeckij_virusolog--162eef191fba514df9f4f717d26230ce?lr=2&lang=ru&stid=3D-x0HgejE6Cx2UaZwV8&persistent_id=90956820&rubric=world&from=index                     1\n",
       "https://yandex.ru/sport/story/Poyavilos_foto_novoj_formy_Liverpulya_biryuzovogo_cveta--d53054ae215826af04891910de41879e?lr=2&lang=ru&stid=Mbx9SUcVClQo4vC9QNSm&persistent_id=90991093&rubric=sport&from=index                  1\n",
       "https://yandex.ru/news/story/Organizatory_otmenili_Evrovidenie-2020_iz-za_koronavirusa--9eef86fd85dc0418b42d210f3b3fed75?lr=2&lang=ru&stid=fSdVxtS_E-mc5pwwD9YY&persistent_id=90899936&rubric=world&from=index                 1\n",
       "https://yandex.ru/news/story/Abonenty_Tinkoff_Mobajl_poluchili_vozmozhnost_oformit_eSIM--8416cf02313737c90065833fb784cb6b?lr=2&lang=ru&stid=XBsbtPXr_CN66UEmdgJP&persistent_id=90975562&rubric=computers&from=index            1\n",
       "https://yandex.ru/news/story/Myuzikl_Koshki_poluchil_premiyu_Zolotaya_malina_kak_khudshij_film--8c2d38adb9634b5b829204993255e1ac?lr=2&lang=ru&stid=whfJCx9gYUxT9fvFodPQ&persistent_id=90592002&rubric=culture&from=index       1\n",
       "Name: urls, Length: 102, dtype: int64"
      ]
     },
     "execution_count": 15,
     "metadata": {},
     "output_type": "execute_result"
    }
   ],
   "source": [
    "pd.DataFrame(yandex_db.find())['urls'].value_counts()"
   ]
  },
  {
   "cell_type": "code",
   "execution_count": 16,
   "metadata": {},
   "outputs": [
    {
     "data": {
      "text/plain": [
       "/news/2020/03/18/iran/                     1\n",
       "/news/2020/03/18/kritikachistogorazuma/    1\n",
       "/news/2020/03/18/kapital/                  1\n",
       "/news/2020/03/18/kadyroff/                 1\n",
       "/news/2020/03/18/recession/                1\n",
       "                                          ..\n",
       "/news/2020/03/18/30_msk/                   1\n",
       "/news/2020/03/18/lingerie/                 1\n",
       "/news/2020/03/18/visa/                     1\n",
       "/news/2020/03/18/frcor/                    1\n",
       "/news/2020/03/18/belarus/                  1\n",
       "Name: urls, Length: 70, dtype: int64"
      ]
     },
     "execution_count": 16,
     "metadata": {},
     "output_type": "execute_result"
    }
   ],
   "source": [
    "pd.DataFrame(lenta_db.find())['urls'].value_counts()"
   ]
  },
  {
   "cell_type": "code",
   "execution_count": null,
   "metadata": {},
   "outputs": [],
   "source": []
  }
 ],
 "metadata": {
  "kernelspec": {
   "display_name": "Python 3",
   "language": "python",
   "name": "python3"
  },
  "language_info": {
   "codemirror_mode": {
    "name": "ipython",
    "version": 3
   },
   "file_extension": ".py",
   "mimetype": "text/x-python",
   "name": "python",
   "nbconvert_exporter": "python",
   "pygments_lexer": "ipython3",
   "version": "3.7.6"
  }
 },
 "nbformat": 4,
 "nbformat_minor": 4
}
