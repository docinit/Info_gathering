{
  "nbformat": 4,
  "nbformat_minor": 0,
  "metadata": {
    "kernelspec": {
      "display_name": "Python 3",
      "language": "python",
      "name": "python3"
    },
    "language_info": {
      "codemirror_mode": {
        "name": "ipython",
        "version": 3
      },
      "file_extension": ".py",
      "mimetype": "text/x-python",
      "name": "python",
      "nbconvert_exporter": "python",
      "pygments_lexer": "ipython3",
      "version": "3.7.4"
    },
    "colab": {
      "name": "Lesson2_1.ipynb",
      "provenance": [],
      "collapsed_sections": []
    }
  },
  "cells": [
    {
      "cell_type": "markdown",
      "metadata": {
        "id": "PggPKHPsfx9d",
        "colab_type": "text"
      },
      "source": [
        "# Задача\n",
        "\n",
        "\n",
        "---\n",
        "\n",
        "\n",
        "#### 1 вариант\n",
        "#### Необходимо собрать информацию о вакансиях на вводимую должность (используем input или через аргументы) с сайта superjob.ru и hh.ru. Приложение должно анализировать несколько страниц сайта(также вводим через input или аргументы). Получившийся список должен содержать в себе минимум:\n",
        "* Наименование вакансии\n",
        "* Предлагаемую зарплату (отдельно мин. и и отдельно макс.)\n",
        "* Ссылку на саму вакансию\n",
        "* Сайт откуда собрана вакансия\n",
        "\n",
        "#### По своему желанию можно добавить еще параметры вакансии (например работодателя и расположение). Данная структура должна быть одинаковая для вакансий с обоих сайтов. Общий результат можно вывести с помощью dataFrame через pandas.\n",
        "\n",
        "\n",
        "---\n",
        "\n"
      ]
    },
    {
      "cell_type": "markdown",
      "metadata": {
        "id": "QmAI-Sdj_Fd8",
        "colab_type": "text"
      },
      "source": [
        "## 1. Импорт необходимых модулей"
      ]
    },
    {
      "cell_type": "code",
      "metadata": {
        "id": "ys8k4keVOj4P",
        "colab_type": "code",
        "colab": {}
      },
      "source": [
        "from pprint import pprint\n",
        "import requests\n",
        "from bs4 import BeautifulSoup as bs\n",
        "import lxml\n",
        "import numpy as np\n",
        "import unicodedata\n",
        "import pandas as pd"
      ],
      "execution_count": 0,
      "outputs": []
    },
    {
      "cell_type": "markdown",
      "metadata": {
        "id": "3C1Z0JQk_Kpg",
        "colab_type": "text"
      },
      "source": [
        "## 2. Получение данных для разбора"
      ]
    },
    {
      "cell_type": "code",
      "metadata": {
        "id": "PvFlYInVOj4Y",
        "colab_type": "code",
        "outputId": "5434f820-6859-4958-b38f-00e5b9b52f02",
        "colab": {
          "base_uri": "https://localhost:8080/",
          "height": 34
        }
      },
      "source": [
        "main_link_HH = 'https://hh.ru/search/vacancy'\n",
        "main_link_SJ = 'https://russia.superjob.ru/vacancy/search'#?keywords\n",
        "header = {'User-Agent':'Mozilla/5.0 (X11; Linux x86_64) AppleWebKit/537.36 (KHTML, like Gecko) Chrome/80.0.3987.132 Safari/537.36'}\n",
        "# получение пользовательского запроса\n",
        "# обработка запроса - приведение к виду, который используется на сайте\n",
        "search_string = input()\n",
        "search_query_HH = '+'.join(search_string.split())\n",
        "search_query_SJ = '%20'.join(search_string.split())\n",
        "\n",
        "#####\n",
        "# получение результатов запроса с сайта hh.ru\n",
        "# bs_result - результат разбора первого запроса\n",
        "# все обработанные bs() результаты для первого источника сохраняем в список bs_result\n",
        "# на сайте hh.ru при нахождении определенного блока на странице можно сделать вывод, что вакансии на этой странице есть;\n",
        "# поэтому сохраним такую страницу для последующего разбора\n",
        "# если получена ссылка в строке с get(href) - значит, информация о вакансии на странице есть - и мы получаем еще одну разобранную функцией bs страницу\n",
        "# сохраняем информацию в виде списка для разбора вакансий hh.ru\n",
        "#####\n",
        "request_result_HH = requests.get(main_link_HH+'?text='+search_query_HH, headers=header)\n",
        "bs_result_HH = bs(request_result_HH.text,'lxml')\n",
        "bs_result_list_HH = []\n",
        "bs_result_list_HH.append(bs_result_HH.find('div',{'class':'vacancy-serp'}))\n",
        "i=1\n",
        "while i:\n",
        "  try:\n",
        "    bs_result_HH = bs(requests.get(main_link_HH+'?text='+search_query_HH+'&page='+str(i), headers=header).text,'lxml')\n",
        "    bs_result_vacancies_HH = bs_result_HH.find('div',{'class':'vacancy-serp'})\n",
        "    bs_result_vacancies_HH.find('a',{'data-qa':'vacancy-serp__vacancy-title'}).get('href')\n",
        "    bs_result_list_HH.append(bs_result_vacancies_HH)\n",
        "    i+=1\n",
        "  except Exception:\n",
        "    break\n",
        "\n",
        "#####\n",
        "# получение результатов запроса с сайта superjob.ru\n",
        "# получение результатов со второго источника тем же методом - и сохранение их в список bs_result2\n",
        "# номер последней страницы можно узнать из paging внизу страницы\n",
        "# 0 и 1 страницы на superjob - это одно и то же; поэтому, после получения первых результатов (первая страница) переходим ко второй (2)\n",
        "# в получившемся page_list_SJ 9 \"лишних\" элементов; если элементов больше, значит, есть и другие, кроме проверенной, страницы\n",
        "#####   \n",
        "request_result_SJ = requests.get(main_link_SJ+'?keywords='+search_query_SJ, headers=header)\n",
        "bs_result_SJ = bs(request_result_SJ.text,'lxml')\n",
        "bs_result_list_SJ = []\n",
        "bs_result_list_SJ.append(bs_result_SJ)\n",
        "page_list_SJ = bs_result_SJ.find_all('span',{'class':'_3IDf-'})\n",
        "i=2\n",
        "if any('>1</span>' in str(i) for i in page_list_SJ):\n",
        "  last_page = int(str(page_list_SJ[-3:-1][0]).split('>')[1].split('<')[0])\n",
        "  while i <= last_page:\n",
        "    bs_result_SJ = bs(requests.get(main_link_SJ+'?keywords='+search_query_SJ+'&page='+str(i), headers=header).text,'lxml')\n",
        "    bs_result_list_SJ.append(bs_result_SJ)\n",
        "    i+=1"
      ],
      "execution_count": 0,
      "outputs": [
        {
          "output_type": "stream",
          "text": [
            "аналитик данных\n"
          ],
          "name": "stdout"
        }
      ]
    },
    {
      "cell_type": "markdown",
      "metadata": {
        "id": "D3CAIhk9_QEB",
        "colab_type": "text"
      },
      "source": [
        "## 3. Разбор необходимой информации. Создание датафрейма."
      ]
    },
    {
      "cell_type": "code",
      "metadata": {
        "id": "uts5a6VHOj4f",
        "colab_type": "code",
        "colab": {}
      },
      "source": [
        "# создаем списки для сохранения данных о зарплате\n",
        "# минимальная зарплата - min_salary\n",
        "# максимальная зарплата - max_salary\n",
        "# информация о заработной плате сохраняется в salary_data (со всех источников, по порядку)\n",
        "# валюта, в которой платится зарплата - currency\n",
        "# список вакансий: vac_list_title_HH для HeadHunter, vac_list_title_SJ для SuperJob\n",
        "# список всех вакансий: vac_list_title (со всех источников, по порядку)\n",
        "# итоговый датафрейм: result\n",
        "##### Зарплата: разбор\n",
        "# для каждого элемента в получающемся списке проверям 4 условия\n",
        "# 1 - если строка с информацией о зарплате начинается со слова \"до\": создаем список данных разбиением по пробелу;\n",
        "# \"до\" удаляем; последний элемент списка = валюта; все, что до него - зарплата\n",
        "# 2 - та же логика при наличии слова 'от'.\n",
        "# 3 - если в тексте строки есть знак '-', значит, указана зарплата \"от и до\":\n",
        "    # первый элемент - это минимальная зарплата;\n",
        "    # второй - максимальная;\n",
        "    #последний элемент после сплита максимальной зарплаты по пробелу - это название валюты\n",
        "# 4 - последний вариант: если ничего не указано, значит, данных нет:\n",
        "    # вставляем значение np.nan для данных о зарплате, пустая строка - для списка валют.\n",
        "\n",
        "####\n",
        "# HeadHunter\n",
        "####\n",
        "min_salary = []\n",
        "max_salary = []\n",
        "currency = []\n",
        "vac_list_title_HH=[]\n",
        "vac_list_title_SJ=[]\n",
        "for bs_result_vacancies_HH in bs_result_list_HH:\n",
        "  for i in bs_result_vacancies_HH.find_all('a',{'data-qa':'vacancy-serp__vacancy-title'}):\n",
        "      link = main_link_HH+i.get('href')\n",
        "      vac_list_title_HH.append([link,i.getText(),'HeadHunter'])\n",
        "  for i in bs_result_vacancies_HH.find_all('div',{'class':'vacancy-serp-item__row vacancy-serp-item__row_header'}):\n",
        "      vac_salary = i.find('span',{'data-qa':'vacancy-serp__vacancy-compensation'})\n",
        "      if vac_salary:\n",
        "          salary = unicodedata.normalize('NFKD',vac_salary.getText())\n",
        "          if salary[0:2]=='до':\n",
        "              max_salary.append(''.join(salary.split(' ')[:-1]).replace('до',''))\n",
        "              currency.append(salary.split(' ')[-1])\n",
        "              min_salary.append(np.nan)\n",
        "          elif salary[0:2]=='от':\n",
        "              min_salary.append(''.join(salary.split(' ')[:-1]).replace('от',''))\n",
        "              currency.append(salary.split(' ')[-1])\n",
        "              max_salary.append(np.nan)\n",
        "          elif '-' in salary:\n",
        "              min_salary.append(''.join(salary.split('-')[0].split(' ')))\n",
        "              currency.append(salary.split('-')[-1].split(' ')[-1])\n",
        "              max_salary.append(''.join(salary.split('-')[1].split(' ')[:-1]))\n",
        "      else:\n",
        "          min_salary.append(np.nan)\n",
        "          max_salary.append(np.nan)\n",
        "          currency.append('')\n",
        "\n",
        "####\n",
        "# SuperJob\n",
        "####\n",
        "for bs_result_SJ in bs_result_list_SJ:\n",
        "  # по какой-то причине теги на superjob меняются; поэтому обрабатываются сразу 2 варианта, которые были выявлены при перехвате ошибок\n",
        "  try:\n",
        "    bs_result_vacancies_SJ=bs_result_SJ.find_all('div',{'class':'f-test-vacancy-item'})\n",
        "  except Exception:\n",
        "    pass\n",
        "  if len(bs_result_vacancies_SJ)==0:\n",
        "    try:\n",
        "      bs_result_vacancies_SJ=bs_result_SJ.find_all('div',{'class':'_3syPg _3P0J7 _9_FPy'})\n",
        "    except Exception:\n",
        "      pass\n",
        "  for i in bs_result_vacancies_SJ:\n",
        "    try:\n",
        "      link = main_link_SJ+i.find('a',{'class':'icMQ_'}).get('href')\n",
        "      vac_list_title_SJ.append([link,i.find('div',{'class':'_3mfro CuJz5 PlM3e _2JVkc _3LJqf'}).getText(),'SuperJob'])\n",
        "    except Exception:\n",
        "      link = main_link_SJ+i.find('a',{'class':'icMQ_'}).get('href')\n",
        "      vac_list_title_SJ.append([link,i.find('span',{'class':'_1rS-s'}).getText(),'SuperJob'])\n",
        "  salaries_SJ=bs_result_SJ.find_all('span',{'class':'f-test-text-company-item-salary'})\n",
        "  for vac_salary_SJ in salaries_SJ:\n",
        "      vac_salary_SJ = unicodedata.normalize(\"NFKD\",vac_salary_SJ.getText())\n",
        "      if vac_salary_SJ[0:3]=='до ':\n",
        "          max_salary.append(''.join(vac_salary_SJ.split(' ')[:-1]).replace('до',''))\n",
        "          currency.append(vac_salary_SJ.split(' ')[-1])\n",
        "          min_salary.append(np.nan)\n",
        "      elif vac_salary_SJ[0:3]=='от ':\n",
        "          min_salary.append(''.join(vac_salary_SJ.split(' ')[:-1]).replace('от',''))\n",
        "          currency.append(vac_salary_SJ.split(' ')[-1])\n",
        "          max_salary.append(np.nan)\n",
        "      elif '—' in vac_salary_SJ:\n",
        "          min_salary.append(''.join(vac_salary_SJ.split('—')[0].split(' ')))\n",
        "          currency.append(vac_salary_SJ.split('—')[-1].split(' ')[-1])\n",
        "          max_salary.append(''.join(vac_salary_SJ.split('—')[1].split(' ')[:-1]))\n",
        "      elif vac_salary_SJ[:10] == 'По договор':\n",
        "          min_salary.append(np.nan)\n",
        "          max_salary.append(np.nan)\n",
        "          currency.append('')\n",
        "      else:\n",
        "          min_salary.append(vac_salary_SJ)\n",
        "          max_salary.append(vac_salary_SJ)\n",
        "          currency.append('')\n",
        "\n",
        "salary_data=pd.DataFrame([min_salary,max_salary,currency]).T.rename(columns = {0:'min_salary',1:'max_salary',2:'currency'})\n",
        "result_list = []\n",
        "vac_list_title_HH.extend(vac_list_title_SJ)\n",
        "vac_list_title = vac_list_title_HH\n",
        "i=len(vac_list_title)\n",
        "for k in range(i):\n",
        "    result_list.append([vac_list_title[k][1],\\\n",
        "                        salary_data['min_salary'][k],\\\n",
        "                        salary_data['max_salary'][k],\\\n",
        "                        salary_data['currency'][k],\\\n",
        "                        vac_list_title[k][0],\\\n",
        "                        vac_list_title[k][2]])#.split('.ru')[0].split('https://')[-1]+'.ru'\n",
        "result = pd.DataFrame(result_list).rename(columns={0:'Вакансия',1:'Мин.зарплата',2:'Макс.зарплата',3:'Валюта',4:'Ссылка',5:'Сервис'})"
      ],
      "execution_count": 0,
      "outputs": []
    },
    {
      "cell_type": "code",
      "metadata": {
        "id": "XgMm2bDjOj4w",
        "colab_type": "code",
        "outputId": "8da0744e-c062-437e-ee5c-dc17d6eb4fb9",
        "colab": {
          "base_uri": "https://localhost:8080/",
          "height": 204
        }
      },
      "source": [
        "result.info()"
      ],
      "execution_count": 0,
      "outputs": [
        {
          "output_type": "stream",
          "text": [
            "<class 'pandas.core.frame.DataFrame'>\n",
            "RangeIndex: 2216 entries, 0 to 2215\n",
            "Data columns (total 6 columns):\n",
            "Вакансия         2216 non-null object\n",
            "Мин.зарплата     601 non-null object\n",
            "Макс.зарплата    380 non-null object\n",
            "Валюта           2216 non-null object\n",
            "Ссылка           2216 non-null object\n",
            "Сервис           2216 non-null object\n",
            "dtypes: object(6)\n",
            "memory usage: 104.0+ KB\n"
          ],
          "name": "stdout"
        }
      ]
    },
    {
      "cell_type": "markdown",
      "metadata": {
        "id": "oGeFAAmRmLCF",
        "colab_type": "text"
      },
      "source": [
        "* Для дальнейшей обработки данных необходимо данные о заработной плате перевести из string в float\n",
        "* При наличии опечаток / дополнительных символов в строках с данными о заработной плате, соответствующие столбцы имеют тип object"
      ]
    },
    {
      "cell_type": "markdown",
      "metadata": {
        "id": "XaIhJyYQ_d_M",
        "colab_type": "text"
      },
      "source": [
        "## 4. Исправление данных"
      ]
    },
    {
      "cell_type": "code",
      "metadata": {
        "id": "r3JAvhjVkujv",
        "colab_type": "code",
        "colab": {}
      },
      "source": [
        "# обработка нецифровых значений в поле минимальной / максимальной зарплаты\n",
        "# обход всех значений в столбце минимальной и максимальной заработной платы\n",
        "# попытка привести каждое в int\n",
        "# при неудаче последний символ в строке сохраняется в переменную x - и попытка повтрояется\n",
        "# в случае удачной очередной попытки, переменная x (перевернутая) добавляется в начало столбца с названием валюты\n",
        "#### т.к. было выявлено, что в большинстве случаев дополнительные символы - это часть названия валюты\n",
        "# далее: весь столбец переводится в тип float, т.к., теоретически, заработная плата может быть в копейках,\n",
        "### а кроме этого, имеются данные np.nan (тип float)\n",
        "\n",
        "\n",
        "for k,i in enumerate(result['Мин.зарплата']):\n",
        "  try:\n",
        "    result['Мин.зарплата'][k]=float(result['Мин.зарплата'][k])\n",
        "  except Exception:\n",
        "    x=[]\n",
        "    ii = list(result['Мин.зарплата'][k])\n",
        "    while type(i) != int:\n",
        "      iii = ii.pop(-1)\n",
        "      x.append(iii)\n",
        "      try:\n",
        "        i = int(''.join(ii))\n",
        "      except Exception:\n",
        "        pass\n",
        "    result['Мин.зарплата'][k]=float(i)\n",
        "    result.iloc[k,3] = ''.join(list([result['Валюта'][k],''.join(x[::-1])])[::-1])\n",
        "\n",
        "for k,i in enumerate(result['Макс.зарплата']):\n",
        "  try:\n",
        "    result['Макс.зарплата'][k]=float(result['Макс.зарплата'][k])\n",
        "  except Exception:\n",
        "    x=[]\n",
        "    ii = list(result['Макс.зарплата'][k])\n",
        "    while type(i) != int:\n",
        "      iii = ii.pop(-1)\n",
        "      x.append(iii)\n",
        "      try:\n",
        "        i = int(''.join(ii))\n",
        "      except Exception:\n",
        "        pass\n",
        "    result['Макс.зарплата'][k]=float(i)\n",
        "    result.iloc[k,3] = ''.join(list([result['Валюта'][k],''.join(x[::-1])])[::-1])\n",
        "result['Мин.зарплата'] = result['Мин.зарплата'].astype(float)\n",
        "result['Макс.зарплата'] = result['Макс.зарплата'].astype(float)\n",
        "\n",
        "# обработка разных обозначений валют; пока по-разному обозначена только российская валюта\n",
        "result.loc[result['Валюта']=='₽','Валюта']='руб.'"
      ],
      "execution_count": 0,
      "outputs": []
    },
    {
      "cell_type": "code",
      "metadata": {
        "id": "jFl6iIqk-zyC",
        "colab_type": "code",
        "outputId": "7aa6b69f-6841-4baf-988f-2ece850e7e49",
        "colab": {
          "base_uri": "https://localhost:8080/",
          "height": 204
        }
      },
      "source": [
        "result.info()"
      ],
      "execution_count": 0,
      "outputs": [
        {
          "output_type": "stream",
          "text": [
            "<class 'pandas.core.frame.DataFrame'>\n",
            "RangeIndex: 2216 entries, 0 to 2215\n",
            "Data columns (total 6 columns):\n",
            "Вакансия         2216 non-null object\n",
            "Мин.зарплата     601 non-null float64\n",
            "Макс.зарплата    380 non-null float64\n",
            "Валюта           2216 non-null object\n",
            "Ссылка           2216 non-null object\n",
            "Сервис           2216 non-null object\n",
            "dtypes: float64(2), object(4)\n",
            "memory usage: 104.0+ KB\n"
          ],
          "name": "stdout"
        }
      ]
    },
    {
      "cell_type": "markdown",
      "metadata": {
        "id": "OLeTyYOX_lcv",
        "colab_type": "text"
      },
      "source": [
        "## 4.1 Просмотр результата"
      ]
    },
    {
      "cell_type": "code",
      "metadata": {
        "id": "ma3uMbIN-2J9",
        "colab_type": "code",
        "outputId": "9e7eed0a-032e-4b1a-b269-f58315c97afe",
        "colab": {
          "base_uri": "https://localhost:8080/",
          "height": 419
        }
      },
      "source": [
        "result"
      ],
      "execution_count": 0,
      "outputs": [
        {
          "output_type": "execute_result",
          "data": {
            "text/html": [
              "<div>\n",
              "<style scoped>\n",
              "    .dataframe tbody tr th:only-of-type {\n",
              "        vertical-align: middle;\n",
              "    }\n",
              "\n",
              "    .dataframe tbody tr th {\n",
              "        vertical-align: top;\n",
              "    }\n",
              "\n",
              "    .dataframe thead th {\n",
              "        text-align: right;\n",
              "    }\n",
              "</style>\n",
              "<table border=\"1\" class=\"dataframe\">\n",
              "  <thead>\n",
              "    <tr style=\"text-align: right;\">\n",
              "      <th></th>\n",
              "      <th>Вакансия</th>\n",
              "      <th>Мин.зарплата</th>\n",
              "      <th>Макс.зарплата</th>\n",
              "      <th>Валюта</th>\n",
              "      <th>Ссылка</th>\n",
              "      <th>Сервис</th>\n",
              "    </tr>\n",
              "  </thead>\n",
              "  <tbody>\n",
              "    <tr>\n",
              "      <th>0</th>\n",
              "      <td>Аналитик данных (стажер)</td>\n",
              "      <td>NaN</td>\n",
              "      <td>NaN</td>\n",
              "      <td></td>\n",
              "      <td>https://hh.ru/search/vacancyhttps://hh.ru/vaca...</td>\n",
              "      <td>HeadHunter</td>\n",
              "    </tr>\n",
              "    <tr>\n",
              "      <th>1</th>\n",
              "      <td>Аналитик данных в команду рисков (стажер)</td>\n",
              "      <td>NaN</td>\n",
              "      <td>NaN</td>\n",
              "      <td></td>\n",
              "      <td>https://hh.ru/search/vacancyhttps://hh.ru/vaca...</td>\n",
              "      <td>HeadHunter</td>\n",
              "    </tr>\n",
              "    <tr>\n",
              "      <th>2</th>\n",
              "      <td>Аналитик данных / POS (стажер)</td>\n",
              "      <td>NaN</td>\n",
              "      <td>NaN</td>\n",
              "      <td></td>\n",
              "      <td>https://hh.ru/search/vacancyhttps://hh.ru/vaca...</td>\n",
              "      <td>HeadHunter</td>\n",
              "    </tr>\n",
              "    <tr>\n",
              "      <th>3</th>\n",
              "      <td>Аналитика данных / POS 2.0 (стажер)</td>\n",
              "      <td>NaN</td>\n",
              "      <td>NaN</td>\n",
              "      <td></td>\n",
              "      <td>https://hh.ru/search/vacancyhttps://hh.ru/vaca...</td>\n",
              "      <td>HeadHunter</td>\n",
              "    </tr>\n",
              "    <tr>\n",
              "      <th>4</th>\n",
              "      <td>Аналитик</td>\n",
              "      <td>NaN</td>\n",
              "      <td>NaN</td>\n",
              "      <td></td>\n",
              "      <td>https://hh.ru/search/vacancyhttps://hh.ru/vaca...</td>\n",
              "      <td>HeadHunter</td>\n",
              "    </tr>\n",
              "    <tr>\n",
              "      <th>...</th>\n",
              "      <td>...</td>\n",
              "      <td>...</td>\n",
              "      <td>...</td>\n",
              "      <td>...</td>\n",
              "      <td>...</td>\n",
              "      <td>...</td>\n",
              "    </tr>\n",
              "    <tr>\n",
              "      <th>2211</th>\n",
              "      <td>Коммерческий директор розничной сети</td>\n",
              "      <td>NaN</td>\n",
              "      <td>NaN</td>\n",
              "      <td></td>\n",
              "      <td>https://russia.superjob.ru/vacancy/search/vaka...</td>\n",
              "      <td>SuperJob</td>\n",
              "    </tr>\n",
              "    <tr>\n",
              "      <th>2212</th>\n",
              "      <td>Маркетолог (специалист по Digital-проектам и в...</td>\n",
              "      <td>30000.0</td>\n",
              "      <td>NaN</td>\n",
              "      <td>руб.</td>\n",
              "      <td>https://russia.superjob.ru/vacancy/search/vaka...</td>\n",
              "      <td>SuperJob</td>\n",
              "    </tr>\n",
              "    <tr>\n",
              "      <th>2213</th>\n",
              "      <td>Маркетолог</td>\n",
              "      <td>NaN</td>\n",
              "      <td>NaN</td>\n",
              "      <td></td>\n",
              "      <td>https://russia.superjob.ru/vacancy/search/vaka...</td>\n",
              "      <td>SuperJob</td>\n",
              "    </tr>\n",
              "    <tr>\n",
              "      <th>2214</th>\n",
              "      <td>Программист-разработчик</td>\n",
              "      <td>NaN</td>\n",
              "      <td>NaN</td>\n",
              "      <td></td>\n",
              "      <td>https://russia.superjob.ru/vacancy/search/vaka...</td>\n",
              "      <td>SuperJob</td>\n",
              "    </tr>\n",
              "    <tr>\n",
              "      <th>2215</th>\n",
              "      <td>Ведущий специалист по отчетности</td>\n",
              "      <td>40000.0</td>\n",
              "      <td>NaN</td>\n",
              "      <td>руб.</td>\n",
              "      <td>https://russia.superjob.ru/vacancy/search/clie...</td>\n",
              "      <td>SuperJob</td>\n",
              "    </tr>\n",
              "  </tbody>\n",
              "</table>\n",
              "<p>2216 rows × 6 columns</p>\n",
              "</div>"
            ],
            "text/plain": [
              "                                               Вакансия  ...      Сервис\n",
              "0                              Аналитик данных (стажер)  ...  HeadHunter\n",
              "1             Аналитик данных в команду рисков (стажер)  ...  HeadHunter\n",
              "2                        Аналитик данных / POS (стажер)  ...  HeadHunter\n",
              "3                   Аналитика данных / POS 2.0 (стажер)  ...  HeadHunter\n",
              "4                                              Аналитик  ...  HeadHunter\n",
              "...                                                 ...  ...         ...\n",
              "2211               Коммерческий директор розничной сети  ...    SuperJob\n",
              "2212  Маркетолог (специалист по Digital-проектам и в...  ...    SuperJob\n",
              "2213                                         Маркетолог  ...    SuperJob\n",
              "2214                            Программист-разработчик  ...    SuperJob\n",
              "2215                   Ведущий специалист по отчетности  ...    SuperJob\n",
              "\n",
              "[2216 rows x 6 columns]"
            ]
          },
          "metadata": {
            "tags": []
          },
          "execution_count": 51
        }
      ]
    },
    {
      "cell_type": "code",
      "metadata": {
        "id": "c8JKBGygabAi",
        "colab_type": "code",
        "colab": {}
      },
      "source": [
        ""
      ],
      "execution_count": 0,
      "outputs": []
    }
  ]
}