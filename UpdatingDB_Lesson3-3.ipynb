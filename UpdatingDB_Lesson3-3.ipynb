{
 "cells": [
  {
   "cell_type": "markdown",
   "metadata": {},
   "source": [
    "### Написать функцию, которая будет добавлять в вашу базу данных только новые вакансии с сайта"
   ]
  },
  {
   "cell_type": "code",
   "execution_count": 1,
   "metadata": {},
   "outputs": [],
   "source": [
    "from pprint import pprint\n",
    "import requests\n",
    "from bs4 import BeautifulSoup as bs\n",
    "import lxml\n",
    "import numpy as np\n",
    "import unicodedata\n",
    "import pandas as pd\n",
    "from pymongo import MongoClient"
   ]
  },
  {
   "cell_type": "code",
   "execution_count": 2,
   "metadata": {},
   "outputs": [],
   "source": [
    "client = MongoClient('localhost', 27017)\n",
    "db = client['vacancy_db']\n",
    "hh = db.head_hunter\n",
    "sj = db.superjob"
   ]
  },
  {
   "cell_type": "code",
   "execution_count": 3,
   "metadata": {},
   "outputs": [],
   "source": [
    "### функция исправления данных о заработной плате\n",
    "def cur_correction(salary,currency):\n",
    "    x=[]\n",
    "    if salary:\n",
    "        try:\n",
    "            salary=int(salary)\n",
    "        except Exception:\n",
    "            if len(str(salary))>0:\n",
    "                yy = list(salary)\n",
    "                while type(salary) != int and len(yy)>0:\n",
    "                    yyy = yy.pop(-1)\n",
    "                    x.append(yyy)\n",
    "                    try:\n",
    "                        salary = int(''.join(yy))\n",
    "                        cur_correction(salary)\n",
    "                    except Exception:\n",
    "                        pass\n",
    "            else:\n",
    "                pass\n",
    "    currency = ''.join(x[::-1])+' '+currency\n",
    "    return salary, currency"
   ]
  },
  {
   "cell_type": "code",
   "execution_count": 4,
   "metadata": {},
   "outputs": [],
   "source": [
    "### функция разбора данных о заработной плате с портала head hunter\n",
    "def salary_hh(salary):\n",
    "    if salary[0:2]=='до':\n",
    "        max_salary = ''.join(salary.split(' ')[:-1]).replace('до','')\n",
    "        currency = salary.split(' ')[-1]\n",
    "        min_salary = np.nan\n",
    "        max_salary, currency = cur_correction(max_salary,currency)\n",
    "    elif salary[0:2]=='от':\n",
    "        min_salary = ''.join(salary.split(' ')[:-1]).replace('от','')\n",
    "        currency = salary.split(' ')[-1]\n",
    "        max_salary = np.nan\n",
    "        min_salary, currency = cur_correction(min_salary,currency)\n",
    "    elif '-' in salary:\n",
    "        min_salary = ''.join(salary.split('-')[0].split(' '))\n",
    "        currency = salary.split('-')[-1].split(' ')[-1]\n",
    "        max_salary = ''.join(salary.split('-')[1].split(' ')[:-1])\n",
    "        max_salary, currency = cur_correction(max_salary,currency)\n",
    "        min_salary, currency = cur_correction(min_salary,currency)\n",
    "    else:\n",
    "        min_salary = np.nan\n",
    "        max_salary = np.nan\n",
    "        currency = ''\n",
    "    return min_salary, max_salary, currency\n",
    "\n",
    "def salary_sj(salary):\n",
    "    if salary[0:3]=='до ':\n",
    "        max_salary = ''.join(salary.split(' ')[:-1]).replace('до','').replace('|','')\n",
    "        currency = salary.split(' ')[-1]\n",
    "        min_salary = np.nan\n",
    "        max_salary, currency = cur_correction(max_salary,currency)\n",
    "    elif salary[0:3]=='от ':\n",
    "        min_salary = ''.join(salary.split(' ')[:-1]).replace('от','')\n",
    "        currency = salary.split(' ')[-1]\n",
    "        max_salary = np.nan\n",
    "        min_salary, currency = cur_correction(min_salary,currency)\n",
    "    elif '—' in salary:\n",
    "        min_salary = ''.join(salary.split('—')[0].split(' '))\n",
    "        currency = salary.split('—')[-1].split(' ')[-1]\n",
    "        max_salary = ''.join(salary.split('—')[1].split(' ')[:-1]).replace('|','')\n",
    "        max_salary, currency = cur_correction(max_salary,currency)\n",
    "        min_salary, currency = cur_correction(min_salary,currency)\n",
    "    elif salary[:10] == 'По договор':\n",
    "        min_salary = np.nan\n",
    "        max_salary = np.nan\n",
    "        currency = ''\n",
    "    elif len(salary)>1:\n",
    "        min_salary = ''.join(salary.split(' ')[:-1])\n",
    "        max_salary = ''.join(salary.split(' ')[:-1])\n",
    "        currency = salary.split(' ')[-1]\n",
    "    else:\n",
    "        min_salary = salary\n",
    "        max_salary = salary\n",
    "        currency = ''\n",
    "    return min_salary, max_salary, currency"
   ]
  },
  {
   "cell_type": "code",
   "execution_count": 5,
   "metadata": {},
   "outputs": [
    {
     "name": "stdin",
     "output_type": "stream",
     "text": [
      " аналитик данных\n"
     ]
    }
   ],
   "source": [
    "main_link_HH = 'https://hh.ru/search/vacancy'\n",
    "main_link_SJ = 'https://russia.superjob.ru'#?keywords\n",
    "header = {'User-Agent':'Mozilla/5.0 (X11; Linux x86_64) AppleWebKit/537.36 (KHTML, like Gecko) Chrome/80.0.3987.132 Safari/537.36'}\n",
    "# получение пользовательского запроса\n",
    "# обработка запроса - приведение к виду, который используется на сайте\n",
    "search_string = input()\n",
    "search_query_HH = '+'.join(search_string.split())\n",
    "search_query_SJ = '%20'.join(search_string.split())"
   ]
  },
  {
   "cell_type": "code",
   "execution_count": 6,
   "metadata": {},
   "outputs": [
    {
     "name": "stdout",
     "output_type": "stream",
     "text": [
      "34.87605690956116\n"
     ]
    }
   ],
   "source": [
    "import time\n",
    "start = time.time()\n",
    "vacancy_name_sj = []\n",
    "salary_sjs = []\n",
    "request_result_SJ = requests.get(main_link_SJ+'/vacancy/search'+'?keywords='+search_query_SJ, headers=header)\n",
    "bs_result_SJ = bs(request_result_SJ.text,'lxml').find_all('div',{'class':'f-test-vacancy-item'})\n",
    "i=2\n",
    "while i!=-1:\n",
    "    try:\n",
    "        request_result_SJ_page = requests.get(main_link_SJ+f'/vacancy/search?page={i}&keywords='+search_query_SJ, headers=header)\n",
    "        if len(bs(request_result_SJ_page.text,'lxml').find_all('div',{'class':'f-test-vacancy-item'}))>0:\n",
    "            bs_result_SJ.extend(bs(request_result_SJ_page.text,'lxml').find_all('div',{'class':'f-test-vacancy-item'}))\n",
    "        else:\n",
    "            i=-2\n",
    "        i+=1\n",
    "    except:\n",
    "        i=-1\n",
    "\n",
    "\n",
    "vacancies_sj = [i.getText(separator='|') for i in bs_result_SJ]\n",
    "vacancies_sj = [i\\\n",
    "                .replace('| ',' ')\\\n",
    "                .replace(' |',' ')\\\n",
    "                .replace('\\xa0','')\\\n",
    "                .replace('|от||','||от ')\\\n",
    "                .replace('||₽|',' руб.||')\\\n",
    "                .replace('||—||','—')\\\n",
    "                .replace('|-|','-')\\\n",
    "                .replace('Опыт не нужен|','')\\\n",
    "                .replace('По договорённости','|По договорённости|')\\\n",
    "                for i in vacancies_sj]\n",
    "\n",
    "for k,i in enumerate(vacancies_sj):\n",
    "    z=0\n",
    "    while z<20:\n",
    "        try:\n",
    "            if 'руб.' in str(i.split('|')[z]) and str(i.split('|')[z])[0] in [str(i) for i in range(10)]:\n",
    "                i = i.split('|')\n",
    "                i[z]='|' + i[z]\n",
    "                i = '|'.join(i)\n",
    "            i=i.replace('|до||','||до ')\n",
    "            vacancy_name_sj.append(i.split('||')[0].replace('|',''))\n",
    "            if len(i.split('||'))>1:\n",
    "                salary_sjs.append(i.split('||')[1])\n",
    "            else:\n",
    "                salary_sjs.append('')\n",
    "            vacancies_sj[k]=i\n",
    "            break\n",
    "        except Exception:\n",
    "            pass\n",
    "        z+=1\n",
    "\n",
    "for k,i in enumerate(salary_sjs):\n",
    "    salary_min, salary_max, currency = salary_sj(i)\n",
    "    salary_sjs[k]=(salary_min, salary_max, currency)\n",
    "\n",
    "urls_sj = []\n",
    "for i in bs_result_SJ:\n",
    "    urls_sj.append(main_link_SJ+i.find('a',{'class':'icMQ_'}).get('href'))\n",
    "\n",
    "ids_sj = []\n",
    "for i in urls_sj:\n",
    "    ids_sj.append(i.split('.html')[0].split('-')[-1])\n",
    "vac_sj_json = {}\n",
    "i=0\n",
    "while i<len(ids_sj):\n",
    "    vac_sj_json[i]={'vacancy_name':vacancy_name_sj[i],'salary_min':salary_sjs[i][0],'salary_max':salary_sjs[i][1],'salary_currency':salary_sjs[i][2],\\\n",
    "                   'link':urls_sj[i],'IDs':ids_sj[i],'source_domain':'SuperJob','Search_query':search_string}\n",
    "    i+=1\n",
    "print(time.time() - start)"
   ]
  },
  {
   "cell_type": "markdown",
   "metadata": {},
   "source": [
    "##### SUPER_JOB\n",
    "* название вакансии - vacancy_name_sj\n",
    "* заработная плата - salary_sjs\n",
    "* ссылка - urls_sj\n",
    "* id - ids_sj\n",
    "* домен super_job\n",
    "\n",
    "##### Head_Hunter\n",
    "* название вакансии - vacancy_name_hh\n",
    "* заработная плата - salary_hhs\n",
    "* ссылка - urls_hh\n",
    "* id - ids\n",
    "* домен head_hunter"
   ]
  },
  {
   "cell_type": "code",
   "execution_count": 7,
   "metadata": {},
   "outputs": [],
   "source": [
    "request_result_HH = requests.get(main_link_HH+'?text='+search_query_HH, headers=header)\n",
    "bs_result_HH = bs(request_result_HH.text,'lxml').find('div',{'class':'vacancy-serp'})\n",
    "i=1\n",
    "while i:\n",
    "  try:\n",
    "    bs_result_HH_page = bs(requests.get(main_link_HH+'?text='+search_query_HH+'&page='+str(i), headers=header).text,'lxml').find('div',{'class':'vacancy-serp'})\n",
    "    bs_result_HH.extend(bs_result_HH_page)\n",
    "    i+=1\n",
    "  except Exception:\n",
    "    break\n",
    "vacancy_name_hh = []\n",
    "urls_hh = []\n",
    "ids_hh = []\n",
    "salary_hhs = []\n",
    "for i in bs_result_HH.find_all('a',{'data-qa':'vacancy-serp__vacancy-title'}):\n",
    "    vacancy_name_hh.append(i.getText())\n",
    "for i in bs_result_HH.find_all('a',{'data-qa':'vacancy-serp__vacancy-title'}):\n",
    "    urls_hh.append(i.get('href').split('?')[0])\n",
    "\n",
    "for i in urls_hh:\n",
    "    try:\n",
    "        ids_hh.append(i.split('spb.hh.ru/vacancy/')[1])\n",
    "    except:\n",
    "        try:\n",
    "            ids_hh.append(i.split('https://hhcdn.ru/click')[1])\n",
    "        except:\n",
    "            pass\n",
    "\n",
    "for i in bs_result_HH.find_all('a',{'data-qa':'vacancy-serp__vacancy-title'}):\n",
    "    if bs_result_HH.find('div',{'class':'vacancy-serp-item__sidebar'}):\n",
    "        try:\n",
    "            salary_hhs.append(unicodedata.normalize('NFKD',i.find_parents()[4].find('span',{'data-qa':'vacancy-serp__vacancy-compensation'}).getText()))\n",
    "        except Exception:\n",
    "            salary_hhs.append('')\n",
    "\n",
    "for k,i in enumerate(salary_hhs):\n",
    "    salary_min, salary_max, currency = salary_hh(i)\n",
    "    salary_hhs[k]=(salary_min, salary_max, currency)            \n",
    "\n",
    "vac_hh_json = {}\n",
    "i=0\n",
    "while i<len(ids_hh):\n",
    "    vac_hh_json[i]={'vacancy_name':vacancy_name_hh[i],'salary_min':salary_hhs[i][0],'salary_max':salary_hhs[i][1],'salary_currency':salary_hhs[i][2],\\\n",
    "                   'link':urls_hh[i],'IDs':ids_hh[i],'source_domain':'HeadHunter','Search_query':search_string}\n",
    "    i+=1"
   ]
  },
  {
   "cell_type": "code",
   "execution_count": 8,
   "metadata": {},
   "outputs": [],
   "source": [
    "for i in vac_sj_json:\n",
    "    sj.update_one({\"vac_id\":vac_sj_json[i]['IDs']}, {\"$set\":vac_sj_json[i]},upsert=True)\n",
    "for i in vac_hh_json:\n",
    "    hh.update_one({\"vac_id\":vac_hh_json[i]['IDs']}, {\"$set\":vac_hh_json[i]},upsert=True)"
   ]
  },
  {
   "cell_type": "code",
   "execution_count": 9,
   "metadata": {},
   "outputs": [
    {
     "name": "stdout",
     "output_type": "stream",
     "text": [
      "{'_id': ObjectId('5e735e172bfea7e4e62efb88'), 'vac_id': '35999775', 'IDs': '35999775', 'Search_query': 'аналитик данных', 'link': 'https://spb.hh.ru/vacancy/35999775', 'salary_currency': '  руб.', 'salary_max': 50000, 'salary_min': 35000, 'source_domain': 'HeadHunter', 'vacancy_name': 'Менеджер-аналитик'}\n"
     ]
    }
   ],
   "source": [
    "# для примера результата: обновлена / добавлена последняя новость, сохраненная в vac_hh_json\n",
    "for i in hh.find({'vac_id':vac_hh_json[list(vac_hh_json)[-1]]['IDs']}):\n",
    "    print(i)"
   ]
  },
  {
   "cell_type": "code",
   "execution_count": null,
   "metadata": {},
   "outputs": [],
   "source": []
  }
 ],
 "metadata": {
  "kernelspec": {
   "display_name": "Python 3",
   "language": "python",
   "name": "python3"
  },
  "language_info": {
   "codemirror_mode": {
    "name": "ipython",
    "version": 3
   },
   "file_extension": ".py",
   "mimetype": "text/x-python",
   "name": "python",
   "nbconvert_exporter": "python",
   "pygments_lexer": "ipython3",
   "version": "3.7.6"
  }
 },
 "nbformat": 4,
 "nbformat_minor": 4
}
